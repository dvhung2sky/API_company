{
 "cells": [
  {
   "cell_type": "code",
   "execution_count": 1,
   "metadata": {},
   "outputs": [],
   "source": [
    "s = 'two times three is not four'"
   ]
  },
  {
   "cell_type": "code",
   "execution_count": 2,
   "metadata": {},
   "outputs": [
    {
     "data": {
      "text/plain": [
       "'w'"
      ]
     },
     "execution_count": 2,
     "metadata": {},
     "output_type": "execute_result"
    }
   ],
   "source": [
    "s[1]"
   ]
  },
  {
   "cell_type": "code",
   "execution_count": 3,
   "metadata": {},
   "outputs": [
    {
     "data": {
      "text/plain": [
       "['two', 'times', 'three', 'is', 'not', 'four']"
      ]
     },
     "execution_count": 3,
     "metadata": {},
     "output_type": "execute_result"
    }
   ],
   "source": [
    "s.split()"
   ]
  },
  {
   "cell_type": "code",
   "execution_count": 4,
   "metadata": {},
   "outputs": [],
   "source": [
    "ss  = 'two times two is four'"
   ]
  },
  {
   "cell_type": "code",
   "execution_count": 6,
   "metadata": {},
   "outputs": [
    {
     "name": "stdout",
     "output_type": "stream",
     "text": [
      "False\n"
     ]
    }
   ],
   "source": [
    "print(s[0] == ss[0])"
   ]
  },
  {
   "cell_type": "code",
   "execution_count": 7,
   "metadata": {},
   "outputs": [],
   "source": [
    "m = len(s)\n",
    "n = len(ss)\n",
    "i=0\n",
    "j=0"
   ]
  },
  {
   "cell_type": "code",
   "execution_count": null,
   "metadata": {},
   "outputs": [],
   "source": [
    "\n",
    "i = 0\n",
    "j = 0\n",
    "\n",
    "while j<m:\n",
    "\n",
    "    if s[j] == ss[i]:\n",
    "        i += 1\n",
    "\n",
    "    j += 1\n",
    "\n",
    "    if (n-j) > (m-i):\n",
    "        return 'No'\n",
    "        \n",
    "return 'Yes'\n",
    "\n",
    "    "
   ]
  },
  {
   "cell_type": "code",
   "execution_count": null,
   "metadata": {},
   "outputs": [],
   "source": []
  },
  {
   "cell_type": "code",
   "execution_count": 16,
   "metadata": {},
   "outputs": [],
   "source": [
    "def checkMagazine(magazine, note):\n",
    "\n",
    "    \n",
    "    m = len(magazine)\n",
    "    n = len(note)\n",
    "    i,j = 0, 0\n",
    "\n",
    "    while (j<m) and (i<n):\n",
    "        \n",
    "        if magazine[j] == note[i]:\n",
    "            i += 1\n",
    "\n",
    "        j += 1\n",
    "\n",
    "        if (n-i) > (m-j):\n",
    "            return 'No'\n",
    "            \n",
    "    return 'Yes'"
   ]
  },
  {
   "cell_type": "code",
   "execution_count": null,
   "metadata": {},
   "outputs": [],
   "source": [
    "give me one grand today night\n",
    "give one grand today"
   ]
  },
  {
   "cell_type": "code",
   "execution_count": 18,
   "metadata": {},
   "outputs": [
    {
     "name": "stdout",
     "output_type": "stream",
     "text": [
      "two times three is not four\n"
     ]
    }
   ],
   "source": [
    "magazine = input().rstrip().split()"
   ]
  },
  {
   "cell_type": "code",
   "execution_count": 19,
   "metadata": {},
   "outputs": [
    {
     "name": "stdout",
     "output_type": "stream",
     "text": [
      "two times two is four\n"
     ]
    }
   ],
   "source": [
    "note = input().rstrip().split()"
   ]
  },
  {
   "cell_type": "code",
   "execution_count": 20,
   "metadata": {},
   "outputs": [
    {
     "data": {
      "text/plain": [
       "'No'"
      ]
     },
     "execution_count": 20,
     "metadata": {},
     "output_type": "execute_result"
    }
   ],
   "source": [
    "checkMagazine(magazine, note)"
   ]
  },
  {
   "cell_type": "code",
   "execution_count": null,
   "metadata": {},
   "outputs": [],
   "source": []
  },
  {
   "cell_type": "code",
   "execution_count": null,
   "metadata": {},
   "outputs": [],
   "source": [
    "def checkMagazine(magazine, note):\n",
    "   \n",
    "    m = len(magazine)\n",
    "\n",
    "    for c in note:\n",
    "        j = 0       \n",
    "        while (j<m):        \n",
    "            if magazine[j] == c:\n",
    "                magazine[j] = ' '\n",
    "                break\n",
    "            \n",
    "            j += 1\n",
    "\n",
    "        if j == m:\n",
    "            print('No')\n",
    "            return\n",
    "\n",
    "    print('Yes')\n",
    "    return "
   ]
  },
  {
   "cell_type": "code",
   "execution_count": null,
   "metadata": {},
   "outputs": [],
   "source": [
    "apgo clm w lxkvg mwz elo bg elo lxkvg elo apgo apgo w elo bg"
   ]
  },
  {
   "cell_type": "code",
   "execution_count": null,
   "metadata": {},
   "outputs": [],
   "source": [
    "elo lxkvg bg mwz clm w"
   ]
  },
  {
   "cell_type": "code",
   "execution_count": null,
   "metadata": {},
   "outputs": [],
   "source": []
  },
  {
   "cell_type": "code",
   "execution_count": 21,
   "metadata": {},
   "outputs": [],
   "source": [
    "import glob\n",
    "\n",
    "\n",
    "df_comp = pd.DataFrame([{ 'Company name' : comp_name,\n",
    "                     'Description 1' : des1,\n",
    "                     'Description 2' : des2,\n",
    "                     'Description 3' : des3}])\n",
    "\n",
    "for file in file_list:\n",
    "    company_name = file[39:-4]\n",
    "\n",
    "    des1 = []\n",
    "    des2 = []\n",
    "    des3 = []\n",
    "    \n",
    "    try:    \n",
    "\n",
    "        with open(file,'r') as f:\n",
    "            desc = f.read()\n",
    "\n",
    "        id2 = desc.find('\\n2.')\n",
    "        id3 = desc.find('\\n3.')\n",
    "\n",
    "        if id2 > 0: \n",
    "            des1 = desc[:id2]\n",
    "\n",
    "            if id3 > 0:\n",
    "                des2 = desc[id2+1:id3]\n",
    "                des3 = desc[id3+1:]\n",
    "            else: \n",
    "                des2 = desc[id2+1:]\n",
    "        else:\n",
    "            des1 = desc        \n",
    "\n",
    "    except:\n",
    "        print('can not open file')\n",
    "        \n",
    "        \n",
    "    df_comp = df_comp.append([{ 'Company name' : comp_name,\n",
    "                     'Description 1' : des1,\n",
    "                     'Description 2' : des2,\n",
    "                     'Description 3' : des3}])\n",
    "    "
   ]
  },
  {
   "cell_type": "code",
   "execution_count": null,
   "metadata": {},
   "outputs": [],
   "source": []
  },
  {
   "cell_type": "code",
   "execution_count": 76,
   "metadata": {},
   "outputs": [],
   "source": [
    "file = '/home/dvh/Desktop/Tuannm40/example/100/Afrique+Airlines.txt'\n",
    "    \n",
    "comp_name = file_list[2][39:-4]\n",
    "des1 = []\n",
    "des2 = []\n",
    "des3 = []\n",
    "\n",
    "    \n",
    "try:    \n",
    "           \n",
    "    with open(file,'r') as f:\n",
    "        desc = f.read()\n",
    "   \n",
    "    id2 = desc.find('\\n2.')\n",
    "    id3 = desc.find('\\n3.')\n",
    "\n",
    "    if id2 > 0: \n",
    "        des1 = desc[:id2]\n",
    "        \n",
    "        if id3 > 0:\n",
    "            des2 = desc[id2+1:id3]\n",
    "            des3 = desc[id3+1:]\n",
    "        else: \n",
    "            des2 = desc[id2+1:]\n",
    "    else:\n",
    "        des1 = desc        \n",
    "    \n",
    "except:\n",
    "    print('can not open file')\n"
   ]
  },
  {
   "cell_type": "code",
   "execution_count": 84,
   "metadata": {},
   "outputs": [
    {
     "data": {
      "text/plain": [
       "'3. Air Afrique came into being in 1961 (1961) as a joint venture between Air France, \\nUnion ... Initially, the company inaugurated its services flying routes within those \\n... :45 Following is a list of destinations the airline served all through its history.\\n'"
      ]
     },
     "execution_count": 84,
     "metadata": {},
     "output_type": "execute_result"
    }
   ],
   "source": [
    "des3"
   ]
  },
  {
   "cell_type": "code",
   "execution_count": 81,
   "metadata": {},
   "outputs": [],
   "source": [
    "import pandas as pd"
   ]
  },
  {
   "cell_type": "code",
   "execution_count": 92,
   "metadata": {},
   "outputs": [],
   "source": [
    "df_comp = pd.DataFrame([{ 'Company name' : comp_name,\n",
    "                     'Description 1' : des1,\n",
    "                     'Description 2' : des2,\n",
    "                     'Description 3' : des3}])\n",
    "df_comp = df_comp.append([{ 'Company name' : comp_name,\n",
    "                     'Description 1' : des1,\n",
    "                     'Description 2' : des2,\n",
    "                     'Description 3' : des3}])"
   ]
  },
  {
   "cell_type": "code",
   "execution_count": 93,
   "metadata": {},
   "outputs": [
    {
     "data": {
      "text/html": [
       "<div>\n",
       "<style scoped>\n",
       "    .dataframe tbody tr th:only-of-type {\n",
       "        vertical-align: middle;\n",
       "    }\n",
       "\n",
       "    .dataframe tbody tr th {\n",
       "        vertical-align: top;\n",
       "    }\n",
       "\n",
       "    .dataframe thead th {\n",
       "        text-align: right;\n",
       "    }\n",
       "</style>\n",
       "<table border=\"1\" class=\"dataframe\">\n",
       "  <thead>\n",
       "    <tr style=\"text-align: right;\">\n",
       "      <th></th>\n",
       "      <th>Company name</th>\n",
       "      <th>Description 1</th>\n",
       "      <th>Description 2</th>\n",
       "      <th>Description 3</th>\n",
       "    </tr>\n",
       "  </thead>\n",
       "  <tbody>\n",
       "    <tr>\n",
       "      <th>0</th>\n",
       "      <td>IANSA+(company)</td>\n",
       "      <td>1. Afrique Airlines was an airline based in Co...</td>\n",
       "      <td>2. Air Afrique was a Pan-African airline, that...</td>\n",
       "      <td>3. Air Afrique came into being in 1961 (1961) ...</td>\n",
       "    </tr>\n",
       "    <tr>\n",
       "      <th>0</th>\n",
       "      <td>IANSA+(company)</td>\n",
       "      <td>1. Afrique Airlines was an airline based in Co...</td>\n",
       "      <td>2. Air Afrique was a Pan-African airline, that...</td>\n",
       "      <td>3. Air Afrique came into being in 1961 (1961) ...</td>\n",
       "    </tr>\n",
       "  </tbody>\n",
       "</table>\n",
       "</div>"
      ],
      "text/plain": [
       "      Company name                                      Description 1  \\\n",
       "0  IANSA+(company)  1. Afrique Airlines was an airline based in Co...   \n",
       "0  IANSA+(company)  1. Afrique Airlines was an airline based in Co...   \n",
       "\n",
       "                                       Description 2  \\\n",
       "0  2. Air Afrique was a Pan-African airline, that...   \n",
       "0  2. Air Afrique was a Pan-African airline, that...   \n",
       "\n",
       "                                       Description 3  \n",
       "0  3. Air Afrique came into being in 1961 (1961) ...  \n",
       "0  3. Air Afrique came into being in 1961 (1961) ...  "
      ]
     },
     "execution_count": 93,
     "metadata": {},
     "output_type": "execute_result"
    }
   ],
   "source": [
    "df_comp"
   ]
  },
  {
   "cell_type": "code",
   "execution_count": null,
   "metadata": {},
   "outputs": [],
   "source": []
  },
  {
   "cell_type": "code",
   "execution_count": null,
   "metadata": {},
   "outputs": [],
   "source": []
  },
  {
   "cell_type": "code",
   "execution_count": null,
   "metadata": {},
   "outputs": [],
   "source": []
  },
  {
   "cell_type": "code",
   "execution_count": null,
   "metadata": {},
   "outputs": [],
   "source": []
  },
  {
   "cell_type": "code",
   "execution_count": null,
   "metadata": {},
   "outputs": [],
   "source": []
  }
 ],
 "metadata": {
  "kernelspec": {
   "display_name": "Python 3",
   "language": "python",
   "name": "python3"
  },
  "language_info": {
   "codemirror_mode": {
    "name": "ipython",
    "version": 3
   },
   "file_extension": ".py",
   "mimetype": "text/x-python",
   "name": "python",
   "nbconvert_exporter": "python",
   "pygments_lexer": "ipython3",
   "version": "3.6.3"
  }
 },
 "nbformat": 4,
 "nbformat_minor": 2
}
