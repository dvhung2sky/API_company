{
 "cells": [
  {
   "cell_type": "code",
   "execution_count": 1,
   "metadata": {},
   "outputs": [
    {
     "ename": "ImportError",
     "evalue": "cannot import name 'crawler'",
     "output_type": "error",
     "traceback": [
      "\u001b[0;31m---------------------------------------------------------------------------\u001b[0m",
      "\u001b[0;31mImportError\u001b[0m                               Traceback (most recent call last)",
      "\u001b[0;32m<ipython-input-1-3d1228a8a67a>\u001b[0m in \u001b[0;36m<module>\u001b[0;34m\u001b[0m\n\u001b[1;32m      3\u001b[0m \u001b[0;32mimport\u001b[0m \u001b[0mjson\u001b[0m\u001b[0;34m\u001b[0m\u001b[0m\n\u001b[1;32m      4\u001b[0m \u001b[0;32mimport\u001b[0m \u001b[0mscrapy\u001b[0m\u001b[0;34m\u001b[0m\u001b[0m\n\u001b[0;32m----> 5\u001b[0;31m \u001b[0;32mfrom\u001b[0m \u001b[0mscrapy\u001b[0m\u001b[0;34m.\u001b[0m\u001b[0mcrawler\u001b[0m \u001b[0;32mimport\u001b[0m \u001b[0mCrawlerProcess\u001b[0m\u001b[0;34m,\u001b[0m \u001b[0mcrawler\u001b[0m\u001b[0;34m\u001b[0m\u001b[0m\n\u001b[0m\u001b[1;32m      6\u001b[0m \u001b[0;32mfrom\u001b[0m \u001b[0mscrapy\u001b[0m\u001b[0;34m.\u001b[0m\u001b[0mutils\u001b[0m\u001b[0;34m.\u001b[0m\u001b[0mproject\u001b[0m \u001b[0;32mimport\u001b[0m \u001b[0mget_project_settings\u001b[0m\u001b[0;34m\u001b[0m\u001b[0m\n\u001b[1;32m      7\u001b[0m \u001b[0;32mfrom\u001b[0m \u001b[0mmultiprocessing\u001b[0m \u001b[0;32mimport\u001b[0m \u001b[0mProcess\u001b[0m\u001b[0;34m,\u001b[0m \u001b[0mQueue\u001b[0m\u001b[0;34m\u001b[0m\u001b[0m\n",
      "\u001b[0;31mImportError\u001b[0m: cannot import name 'crawler'"
     ]
    }
   ],
   "source": [
    "from flask import Flask, request\n",
    "from flask_restful import Resource, Api\n",
    "import json\n",
    "import scrapy\n",
    "import scrapy.crawler as crawler\n",
    "from scrapy.crawler import CrawlerProcess\n",
    "from scrapy.utils.project import get_project_settings\n",
    "from multiprocessing import Process, Queue\n",
    "from twisted.internet import reactor\n",
    "\n",
    "\n",
    "\n",
    "app = Flask(__name__)\n",
    "api = Api(app)\n",
    "\n",
    "APP_PORT = '5006'\n",
    "GET_RESPONSE_MES = 'Hello my friend !'\n",
    "\n",
    "\n",
    "class get_description(scrapy.Spider):\n",
    "\n",
    "    def __init__(self,company):\n",
    "        self.company = company\n",
    "\n",
    "    def start_requests(self):\n",
    "        item = self.company.replace(' ','+')\n",
    "        url = 'https://www.google.com/search?q=' + item + '+company+description'\n",
    "        req = scrapy.Request(url, callback=self.parse_description, meta={'company': item})\n",
    "        yield req\n",
    "\n",
    "    def parse_description(self, response):\n",
    "\n",
    "        item = response.meta.get('company')\n",
    "        with open('company.txt', 'w') as f:\n",
    "            f.write(\"{}\\n\".format(item))\n",
    "            for i in range(1, 4):                \n",
    "                result = \"\".join(response.xpath('//*[@id=\"ires\"]/ol/div[' + str(i) + ']/div/span//text()').extract())\n",
    "                f.write('{0}. {1}\\n'.format(i, result))\n",
    "\n",
    "\n",
    "# the wrapper to make it run more times\n",
    "def run_spider(company):\n",
    "    def f(q):\n",
    "        try:\n",
    "            runner = crawler.CrawlerRunner()\n",
    "            deferred = runner.crawl(get_description,company)\n",
    "            deferred.addBoth(lambda _: reactor.stop())\n",
    "            reactor.run()\n",
    "            q.put(None)\n",
    "        except Exception as e:\n",
    "            q.put(e)\n",
    "\n",
    "    q = Queue()\n",
    "    p = Process(target=f, args=(q,))\n",
    "    p.start()\n",
    "#     result = q.get()\n",
    "    p.join()\n"
   ]
  },
  {
   "cell_type": "code",
   "execution_count": null,
   "metadata": {},
   "outputs": [],
   "source": [
    "run_spider('Vingroup')"
   ]
  },
  {
   "cell_type": "code",
   "execution_count": null,
   "metadata": {},
   "outputs": [],
   "source": []
  }
 ],
 "metadata": {
  "kernelspec": {
   "display_name": "Python 3",
   "language": "python",
   "name": "python3"
  },
  "language_info": {
   "codemirror_mode": {
    "name": "ipython",
    "version": 3
   },
   "file_extension": ".py",
   "mimetype": "text/x-python",
   "name": "python",
   "nbconvert_exporter": "python",
   "pygments_lexer": "ipython3",
   "version": "3.6.3"
  }
 },
 "nbformat": 4,
 "nbformat_minor": 2
}
