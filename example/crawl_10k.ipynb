{
 "cells": [
  {
   "cell_type": "code",
   "execution_count": null,
   "metadata": {},
   "outputs": [],
   "source": [
    "from scrapy.crawler import CrawlerProcess\n",
    "from scrapy.utils.project import get_project_settings"
   ]
  },
  {
   "cell_type": "code",
   "execution_count": null,
   "metadata": {
    "scrolled": false
   },
   "outputs": [],
   "source": [
    "process = CrawlerProcess(get_project_settings())\n",
    "\n",
    "for i in range(1):\n",
    "    process.crawl('description', id_s=8000+i*100,id_e=8000+i*100+1,id_f=i)\n",
    "\n",
    "process.start()\n",
    "# process.stop()"
   ]
  },
  {
   "cell_type": "code",
   "execution_count": 3,
   "metadata": {},
   "outputs": [],
   "source": [
    "import scrapy\n",
    "import scrapy.crawler as crawler\n",
    "from multiprocessing import Process, Queue\n",
    "from twisted.internet import reactor\n",
    "\n",
    "class get_description(scrapy.Spider):\n",
    "\n",
    "    def __init__(self,company):\n",
    "        self.company = company\n",
    "\n",
    "    def start_requests(self):\n",
    "        item = self.company.replace(' ','+')\n",
    "        url = 'https://www.google.com/search?q=' + item + '+company+description'\n",
    "        req = scrapy.Request(url, callback=self.parse_description, meta={'company': item})\n",
    "        yield req\n",
    "\n",
    "    def parse_description(self, response):\n",
    "\n",
    "        item = response.meta.get('company')\n",
    "        with open('company.txt', 'w') as f:\n",
    "            for i in range(1, 4):                \n",
    "                result = \"\".join(response.xpath('//*[@id=\"ires\"]/ol/div[' + str(i) + ']/div/span//text()').extract())\n",
    "                f.write('{0}. {1}\\n'.format(i, result))\n",
    "\n",
    "\n",
    "# the wrapper to make it run more times\n",
    "def run_spider(company):\n",
    "    def f(q):\n",
    "        try:\n",
    "            runner = crawler.CrawlerRunner()\n",
    "            deferred = runner.crawl(get_description,company)\n",
    "            deferred.addBoth(lambda _: reactor.stop())\n",
    "            reactor.run()\n",
    "            q.put(None)\n",
    "        except Exception as e:\n",
    "            q.put(e)\n",
    "\n",
    "    q = Queue()\n",
    "    p = Process(target=f, args=(q,))\n",
    "    p.start()\n",
    "#     result = q.get()\n",
    "    p.join()\n",
    "\n",
    "#     if result is not None:\n",
    "#         raise result\n",
    "\n",
    "\n",
    "# print('run:')\n",
    "# run_spider()\n",
    "\n",
    "# print('run:')\n",
    "# run_spider()"
   ]
  },
  {
   "cell_type": "code",
   "execution_count": 4,
   "metadata": {},
   "outputs": [],
   "source": [
    "run_spider('FPT')"
   ]
  },
  {
   "cell_type": "code",
   "execution_count": null,
   "metadata": {},
   "outputs": [],
   "source": []
  },
  {
   "cell_type": "code",
   "execution_count": null,
   "metadata": {},
   "outputs": [],
   "source": []
  }
 ],
 "metadata": {
  "kernelspec": {
   "display_name": "Python 3",
   "language": "python",
   "name": "python3"
  },
  "language_info": {
   "codemirror_mode": {
    "name": "ipython",
    "version": 3
   },
   "file_extension": ".py",
   "mimetype": "text/x-python",
   "name": "python",
   "nbconvert_exporter": "python",
   "pygments_lexer": "ipython3",
   "version": "3.6.3"
  }
 },
 "nbformat": 4,
 "nbformat_minor": 2
}
